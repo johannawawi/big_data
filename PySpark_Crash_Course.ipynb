{
  "cells": [
    {
      "cell_type": "code",
      "execution_count": 1,
      "id": "editorial-printer",
      "metadata": {
        "colab": {
          "base_uri": "https://localhost:8080/"
        },
        "id": "editorial-printer",
        "outputId": "70aa74ab-e369-4658-cbd8-d2a706623bd4"
      },
      "outputs": [
        {
          "output_type": "execute_result",
          "data": {
            "text/plain": [
              "['Accumulator',\n",
              " 'AccumulatorParam',\n",
              " 'Any',\n",
              " 'BarrierTaskContext',\n",
              " 'BarrierTaskInfo',\n",
              " 'BasicProfiler',\n",
              " 'Broadcast',\n",
              " 'CPickleSerializer',\n",
              " 'Callable',\n",
              " 'HiveContext',\n",
              " 'InheritableThread',\n",
              " 'MarshalSerializer',\n",
              " 'Optional',\n",
              " 'Profiler',\n",
              " 'RDD',\n",
              " 'RDDBarrier',\n",
              " 'Row',\n",
              " 'SQLContext',\n",
              " 'SparkConf',\n",
              " 'SparkContext',\n",
              " 'SparkFiles',\n",
              " 'SparkJobInfo',\n",
              " 'SparkStageInfo',\n",
              " 'StatusTracker',\n",
              " 'StorageLevel',\n",
              " 'TaskContext',\n",
              " 'TypeVar',\n",
              " 'Union',\n",
              " '_F',\n",
              " '_NoValue',\n",
              " '__all__',\n",
              " '__builtins__',\n",
              " '__cached__',\n",
              " '__doc__',\n",
              " '__file__',\n",
              " '__loader__',\n",
              " '__name__',\n",
              " '__package__',\n",
              " '__path__',\n",
              " '__spec__',\n",
              " '__version__',\n",
              " '_globals',\n",
              " 'accumulators',\n",
              " 'broadcast',\n",
              " 'cast',\n",
              " 'cloudpickle',\n",
              " 'conf',\n",
              " 'context',\n",
              " 'copy_func',\n",
              " 'errors',\n",
              " 'files',\n",
              " 'filterwarnings',\n",
              " 'find_spark_home',\n",
              " 'inheritable_thread_target',\n",
              " 'java_gateway',\n",
              " 'join',\n",
              " 'keyword_only',\n",
              " 'profiler',\n",
              " 'rdd',\n",
              " 'rddsampler',\n",
              " 'resource',\n",
              " 'resultiterable',\n",
              " 'serializers',\n",
              " 'shuffle',\n",
              " 'since',\n",
              " 'sql',\n",
              " 'statcounter',\n",
              " 'status',\n",
              " 'storagelevel',\n",
              " 'taskcontext',\n",
              " 'traceback_utils',\n",
              " 'types',\n",
              " 'util',\n",
              " 'version',\n",
              " 'wraps']"
            ]
          },
          "metadata": {},
          "execution_count": 1
        }
      ],
      "source": [
        "# Load Pyspark Pkgs\n",
        "import pyspark\n",
        "\n",
        "# Methods/Attrib\n",
        "dir(pyspark)"
      ]
    },
    {
      "cell_type": "markdown",
      "id": "awful-separation",
      "metadata": {
        "id": "awful-separation"
      },
      "source": [
        "#### Working with DataFrames in PySpark\n",
        "+ Read DataSet(CSV)\n",
        "+ Create DataFrame\n",
        "\n",
        "###### Tips\n",
        "+ SparkSession\n",
        "+ SparkContext :sc\n",
        "+ SqlContext"
      ]
    },
    {
      "cell_type": "code",
      "execution_count": 2,
      "id": "chief-combination",
      "metadata": {
        "id": "chief-combination"
      },
      "outputs": [],
      "source": [
        "# Create A SparkSession\n",
        "from pyspark.sql import SparkSession\n",
        "spark = SparkSession.builder.appName(\"PySparkTut\").getOrCreate()"
      ]
    },
    {
      "cell_type": "code",
      "execution_count": 3,
      "id": "nonprofit-paraguay",
      "metadata": {
        "colab": {
          "base_uri": "https://localhost:8080/"
        },
        "id": "nonprofit-paraguay",
        "outputId": "fad9a47f-b302-49b2-f334-18eb9c0cfff2"
      },
      "outputs": [
        {
          "output_type": "stream",
          "name": "stdout",
          "text": [
            "sample_data  x.parquet\ty.csv\n"
          ]
        }
      ],
      "source": [
        "!ls"
      ]
    },
    {
      "cell_type": "code",
      "execution_count": 4,
      "id": "tested-blues",
      "metadata": {
        "colab": {
          "base_uri": "https://localhost:8080/"
        },
        "id": "tested-blues",
        "outputId": "8782c44a-5b25-4024-ba49-d5dd1e7896db"
      },
      "outputs": [
        {
          "output_type": "stream",
          "name": "stdout",
          "text": [
            "--2024-11-12 07:03:48--  https://raw.githubusercontent.com/Jcharis/common_ml_datasets_explorer_app/master/datasets/diamonds.csv\n",
            "Resolving raw.githubusercontent.com (raw.githubusercontent.com)... 185.199.108.133, 185.199.109.133, 185.199.110.133, ...\n",
            "Connecting to raw.githubusercontent.com (raw.githubusercontent.com)|185.199.108.133|:443... connected.\n",
            "HTTP request sent, awaiting response... 200 OK\n",
            "Length: 2772143 (2.6M) [text/plain]\n",
            "Saving to: ‘diamonds.csv’\n",
            "\n",
            "diamonds.csv        100%[===================>]   2.64M  --.-KB/s    in 0.1s    \n",
            "\n",
            "2024-11-12 07:03:48 (24.4 MB/s) - ‘diamonds.csv’ saved [2772143/2772143]\n",
            "\n"
          ]
        }
      ],
      "source": [
        "!wget https://raw.githubusercontent.com/Jcharis/common_ml_datasets_explorer_app/master/datasets/diamonds.csv"
      ]
    },
    {
      "cell_type": "code",
      "execution_count": 5,
      "id": "documented-laser",
      "metadata": {
        "colab": {
          "base_uri": "https://localhost:8080/"
        },
        "id": "documented-laser",
        "outputId": "897e3595-b030-4cd5-ba70-5ebdf113589a"
      },
      "outputs": [
        {
          "output_type": "stream",
          "name": "stdout",
          "text": [
            "diamonds.csv  sample_data  x.parquet  y.csv\n"
          ]
        }
      ],
      "source": [
        "!ls"
      ]
    },
    {
      "cell_type": "code",
      "execution_count": 6,
      "id": "listed-adolescent",
      "metadata": {
        "colab": {
          "base_uri": "https://localhost:8080/"
        },
        "id": "listed-adolescent",
        "outputId": "66f5e9cd-732f-468e-92e8-ac72153ecd94"
      },
      "outputs": [
        {
          "output_type": "stream",
          "name": "stdout",
          "text": [
            "+-----+---------+-----+-------+-----+-----+-----+----+----+----+\n",
            "|  _c0|      _c1|  _c2|    _c3|  _c4|  _c5|  _c6| _c7| _c8| _c9|\n",
            "+-----+---------+-----+-------+-----+-----+-----+----+----+----+\n",
            "|carat|      cut|color|clarity|depth|table|price|   x|   y|   z|\n",
            "| 0.23|    Ideal|    E|    SI2| 61.5|   55|  326|3.95|3.98|2.43|\n",
            "| 0.21|  Premium|    E|    SI1| 59.8|   61|  326|3.89|3.84|2.31|\n",
            "| 0.23|     Good|    E|    VS1| 56.9|   65|  327|4.05|4.07|2.31|\n",
            "| 0.29|  Premium|    I|    VS2| 62.4|   58|  334| 4.2|4.23|2.63|\n",
            "| 0.31|     Good|    J|    SI2| 63.3|   58|  335|4.34|4.35|2.75|\n",
            "| 0.24|Very Good|    J|   VVS2| 62.8|   57|  336|3.94|3.96|2.48|\n",
            "| 0.24|Very Good|    I|   VVS1| 62.3|   57|  336|3.95|3.98|2.47|\n",
            "| 0.26|Very Good|    H|    SI1| 61.9|   55|  337|4.07|4.11|2.53|\n",
            "| 0.22|     Fair|    E|    VS2| 65.1|   61|  337|3.87|3.78|2.49|\n",
            "| 0.23|Very Good|    H|    VS1| 59.4|   61|  338|   4|4.05|2.39|\n",
            "|  0.3|     Good|    J|    SI1|   64|   55|  339|4.25|4.28|2.73|\n",
            "| 0.23|    Ideal|    J|    VS1| 62.8|   56|  340|3.93| 3.9|2.46|\n",
            "| 0.22|  Premium|    F|    SI1| 60.4|   61|  342|3.88|3.84|2.33|\n",
            "| 0.31|    Ideal|    J|    SI2| 62.2|   54|  344|4.35|4.37|2.71|\n",
            "|  0.2|  Premium|    E|    SI2| 60.2|   62|  345|3.79|3.75|2.27|\n",
            "| 0.32|  Premium|    E|     I1| 60.9|   58|  345|4.38|4.42|2.68|\n",
            "|  0.3|    Ideal|    I|    SI2|   62|   54|  348|4.31|4.34|2.68|\n",
            "|  0.3|     Good|    J|    SI1| 63.4|   54|  351|4.23|4.29| 2.7|\n",
            "|  0.3|     Good|    J|    SI1| 63.8|   56|  351|4.23|4.26|2.71|\n",
            "+-----+---------+-----+-------+-----+-----+-----+----+----+----+\n",
            "only showing top 20 rows\n",
            "\n"
          ]
        }
      ],
      "source": [
        "# Read A DataSet without header\n",
        "df = spark.read.csv('diamonds.csv')\n",
        "\n",
        "# Preview dataset\n",
        "df.show()"
      ]
    },
    {
      "cell_type": "code",
      "execution_count": 7,
      "id": "acquired-vault",
      "metadata": {
        "colab": {
          "base_uri": "https://localhost:8080/"
        },
        "id": "acquired-vault",
        "outputId": "4e339cd8-0ae6-49ba-d757-6fa8dfd8e94d"
      },
      "outputs": [
        {
          "output_type": "stream",
          "name": "stdout",
          "text": [
            "+-----+---------+-----+-------+-----+-----+-----+----+----+----+\n",
            "|carat|      cut|color|clarity|depth|table|price|   x|   y|   z|\n",
            "+-----+---------+-----+-------+-----+-----+-----+----+----+----+\n",
            "| 0.23|    Ideal|    E|    SI2| 61.5|   55|  326|3.95|3.98|2.43|\n",
            "| 0.21|  Premium|    E|    SI1| 59.8|   61|  326|3.89|3.84|2.31|\n",
            "| 0.23|     Good|    E|    VS1| 56.9|   65|  327|4.05|4.07|2.31|\n",
            "| 0.29|  Premium|    I|    VS2| 62.4|   58|  334| 4.2|4.23|2.63|\n",
            "| 0.31|     Good|    J|    SI2| 63.3|   58|  335|4.34|4.35|2.75|\n",
            "| 0.24|Very Good|    J|   VVS2| 62.8|   57|  336|3.94|3.96|2.48|\n",
            "| 0.24|Very Good|    I|   VVS1| 62.3|   57|  336|3.95|3.98|2.47|\n",
            "| 0.26|Very Good|    H|    SI1| 61.9|   55|  337|4.07|4.11|2.53|\n",
            "| 0.22|     Fair|    E|    VS2| 65.1|   61|  337|3.87|3.78|2.49|\n",
            "| 0.23|Very Good|    H|    VS1| 59.4|   61|  338|   4|4.05|2.39|\n",
            "|  0.3|     Good|    J|    SI1|   64|   55|  339|4.25|4.28|2.73|\n",
            "| 0.23|    Ideal|    J|    VS1| 62.8|   56|  340|3.93| 3.9|2.46|\n",
            "| 0.22|  Premium|    F|    SI1| 60.4|   61|  342|3.88|3.84|2.33|\n",
            "| 0.31|    Ideal|    J|    SI2| 62.2|   54|  344|4.35|4.37|2.71|\n",
            "|  0.2|  Premium|    E|    SI2| 60.2|   62|  345|3.79|3.75|2.27|\n",
            "| 0.32|  Premium|    E|     I1| 60.9|   58|  345|4.38|4.42|2.68|\n",
            "|  0.3|    Ideal|    I|    SI2|   62|   54|  348|4.31|4.34|2.68|\n",
            "|  0.3|     Good|    J|    SI1| 63.4|   54|  351|4.23|4.29| 2.7|\n",
            "|  0.3|     Good|    J|    SI1| 63.8|   56|  351|4.23|4.26|2.71|\n",
            "|  0.3|Very Good|    J|    SI1| 62.7|   59|  351|4.21|4.27|2.66|\n",
            "+-----+---------+-----+-------+-----+-----+-----+----+----+----+\n",
            "only showing top 20 rows\n",
            "\n"
          ]
        }
      ],
      "source": [
        "# Read A DataSet with header/column names\n",
        "df = spark.read.csv('diamonds.csv',header=True)\n",
        "df.show()"
      ]
    },
    {
      "cell_type": "code",
      "execution_count": 8,
      "id": "scenic-simpson",
      "metadata": {
        "colab": {
          "base_uri": "https://localhost:8080/"
        },
        "id": "scenic-simpson",
        "outputId": "e6409ec1-5af0-4e2f-8e76-93e088fff308"
      },
      "outputs": [
        {
          "output_type": "execute_result",
          "data": {
            "text/plain": [
              "['carat', 'cut', 'color', 'clarity', 'depth', 'table', 'price', 'x', 'y', 'z']"
            ]
          },
          "metadata": {},
          "execution_count": 8
        }
      ],
      "source": [
        "# Columns\n",
        "df.columns"
      ]
    },
    {
      "cell_type": "code",
      "execution_count": 9,
      "id": "upset-celebration",
      "metadata": {
        "colab": {
          "base_uri": "https://localhost:8080/"
        },
        "id": "upset-celebration",
        "outputId": "9e1e8acb-6b44-41a4-b1e0-0140517ac146"
      },
      "outputs": [
        {
          "output_type": "execute_result",
          "data": {
            "text/plain": [
              "(53940, 10)"
            ]
          },
          "metadata": {},
          "execution_count": 9
        }
      ],
      "source": [
        "# Shape (rows + columns)\n",
        "(df.count() ,len(df.columns))"
      ]
    },
    {
      "cell_type": "code",
      "execution_count": 10,
      "id": "federal-balloon",
      "metadata": {
        "colab": {
          "base_uri": "https://localhost:8080/"
        },
        "id": "federal-balloon",
        "outputId": "9ca1528c-49f7-43d1-efbc-c776fef8c140"
      },
      "outputs": [
        {
          "output_type": "execute_result",
          "data": {
            "text/plain": [
              "10"
            ]
          },
          "metadata": {},
          "execution_count": 10
        }
      ],
      "source": [
        "# Number of columns\n",
        "len(df.columns)"
      ]
    },
    {
      "cell_type": "code",
      "execution_count": 11,
      "id": "synthetic-piece",
      "metadata": {
        "colab": {
          "base_uri": "https://localhost:8080/"
        },
        "id": "synthetic-piece",
        "outputId": "1c1bdc9c-62f6-4cf4-8a6f-849643bc99c8"
      },
      "outputs": [
        {
          "output_type": "execute_result",
          "data": {
            "text/plain": [
              "53940"
            ]
          },
          "metadata": {},
          "execution_count": 11
        }
      ],
      "source": [
        "# Number of rows\n",
        "df.count()"
      ]
    },
    {
      "cell_type": "code",
      "execution_count": 12,
      "id": "first-alexander",
      "metadata": {
        "colab": {
          "base_uri": "https://localhost:8080/"
        },
        "id": "first-alexander",
        "outputId": "89c66ad6-cac6-4654-c623-42c963e2cbb9"
      },
      "outputs": [
        {
          "output_type": "stream",
          "name": "stdout",
          "text": [
            "+-------+------------------+---------+-----+-------+------------------+------------------+-----------------+------------------+------------------+------------------+\n",
            "|summary|             carat|      cut|color|clarity|             depth|             table|            price|                 x|                 y|                 z|\n",
            "+-------+------------------+---------+-----+-------+------------------+------------------+-----------------+------------------+------------------+------------------+\n",
            "|  count|             53940|    53940|53940|  53940|             53940|             53940|            53940|             53940|             53940|             53940|\n",
            "|   mean|0.7979397478679852|     NULL| NULL|   NULL| 61.74940489432624| 57.45718390804603|3932.799721913237| 5.731157211716609| 5.734525954764462|3.5387337782723316|\n",
            "| stddev|0.4740112444054196|     NULL| NULL|   NULL|1.4326213188336525|2.2344905628213247|3989.439738146397|1.1217607467924915|1.1421346741235616|0.7056988469499883|\n",
            "|    min|               0.2|     Fair|    D|     I1|                43|                43|             1000|                 0|                 0|                 0|\n",
            "|    max|              5.01|Very Good|    J|   VVS2|                79|                95|             9999|              9.86|              9.94|              8.06|\n",
            "+-------+------------------+---------+-----+-------+------------------+------------------+-----------------+------------------+------------------+------------------+\n",
            "\n"
          ]
        }
      ],
      "source": [
        "# Descriptive Analysis\n",
        "df.describe().show()"
      ]
    },
    {
      "cell_type": "code",
      "execution_count": 13,
      "id": "recorded-person",
      "metadata": {
        "colab": {
          "base_uri": "https://localhost:8080/"
        },
        "id": "recorded-person",
        "outputId": "0e4e39ea-864b-41f5-8517-44ea86b96acf"
      },
      "outputs": [
        {
          "output_type": "stream",
          "name": "stdout",
          "text": [
            "+-------+------------------+\n",
            "|summary|             carat|\n",
            "+-------+------------------+\n",
            "|  count|             53940|\n",
            "|   mean|0.7979397478679852|\n",
            "| stddev|0.4740112444054196|\n",
            "|    min|               0.2|\n",
            "|    max|              5.01|\n",
            "+-------+------------------+\n",
            "\n"
          ]
        }
      ],
      "source": [
        "# Pick a column & Get summary/describe a selected column\n",
        "df.describe('carat').show()"
      ]
    },
    {
      "cell_type": "code",
      "execution_count": 14,
      "id": "united-innocent",
      "metadata": {
        "colab": {
          "base_uri": "https://localhost:8080/"
        },
        "id": "united-innocent",
        "outputId": "d5001cd4-6537-4e35-8938-b40d3a7ce19f"
      },
      "outputs": [
        {
          "output_type": "execute_result",
          "data": {
            "text/plain": [
              "Row(carat='0.23', cut='Ideal', color='E', clarity='SI2', depth='61.5', table='55', price='326', x='3.95', y='3.98', z='2.43')"
            ]
          },
          "metadata": {},
          "execution_count": 14
        }
      ],
      "source": [
        "# Preview the First Row\n",
        "df.first()"
      ]
    },
    {
      "cell_type": "code",
      "execution_count": 15,
      "id": "fitted-survey",
      "metadata": {
        "colab": {
          "base_uri": "https://localhost:8080/"
        },
        "id": "fitted-survey",
        "outputId": "a9160183-fda0-4114-8994-19571d3d1714"
      },
      "outputs": [
        {
          "output_type": "execute_result",
          "data": {
            "text/plain": [
              "[Row(carat='0.23', cut='Ideal', color='E', clarity='SI2', depth='61.5', table='55', price='326', x='3.95', y='3.98', z='2.43'),\n",
              " Row(carat='0.21', cut='Premium', color='E', clarity='SI1', depth='59.8', table='61', price='326', x='3.89', y='3.84', z='2.31'),\n",
              " Row(carat='0.23', cut='Good', color='E', clarity='VS1', depth='56.9', table='65', price='327', x='4.05', y='4.07', z='2.31'),\n",
              " Row(carat='0.29', cut='Premium', color='I', clarity='VS2', depth='62.4', table='58', price='334', x='4.2', y='4.23', z='2.63'),\n",
              " Row(carat='0.31', cut='Good', color='J', clarity='SI2', depth='63.3', table='58', price='335', x='4.34', y='4.35', z='2.75'),\n",
              " Row(carat='0.24', cut='Very Good', color='J', clarity='VVS2', depth='62.8', table='57', price='336', x='3.94', y='3.96', z='2.48'),\n",
              " Row(carat='0.24', cut='Very Good', color='I', clarity='VVS1', depth='62.3', table='57', price='336', x='3.95', y='3.98', z='2.47'),\n",
              " Row(carat='0.26', cut='Very Good', color='H', clarity='SI1', depth='61.9', table='55', price='337', x='4.07', y='4.11', z='2.53'),\n",
              " Row(carat='0.22', cut='Fair', color='E', clarity='VS2', depth='65.1', table='61', price='337', x='3.87', y='3.78', z='2.49'),\n",
              " Row(carat='0.23', cut='Very Good', color='H', clarity='VS1', depth='59.4', table='61', price='338', x='4', y='4.05', z='2.39')]"
            ]
          },
          "metadata": {},
          "execution_count": 15
        }
      ],
      "source": [
        "# Preview the first 10 rows\n",
        "# Like a list\n",
        "df.head(10)"
      ]
    },
    {
      "cell_type": "code",
      "execution_count": 16,
      "id": "functioning-gibson",
      "metadata": {
        "colab": {
          "base_uri": "https://localhost:8080/"
        },
        "id": "functioning-gibson",
        "outputId": "bdcf1a31-3a29-427d-eec8-d64da9c9353b"
      },
      "outputs": [
        {
          "output_type": "stream",
          "name": "stdout",
          "text": [
            "+-----+---------+-----+-------+-----+-----+-----+----+----+----+\n",
            "|carat|      cut|color|clarity|depth|table|price|   x|   y|   z|\n",
            "+-----+---------+-----+-------+-----+-----+-----+----+----+----+\n",
            "| 0.23|    Ideal|    E|    SI2| 61.5|   55|  326|3.95|3.98|2.43|\n",
            "| 0.21|  Premium|    E|    SI1| 59.8|   61|  326|3.89|3.84|2.31|\n",
            "| 0.23|     Good|    E|    VS1| 56.9|   65|  327|4.05|4.07|2.31|\n",
            "| 0.29|  Premium|    I|    VS2| 62.4|   58|  334| 4.2|4.23|2.63|\n",
            "| 0.31|     Good|    J|    SI2| 63.3|   58|  335|4.34|4.35|2.75|\n",
            "| 0.24|Very Good|    J|   VVS2| 62.8|   57|  336|3.94|3.96|2.48|\n",
            "| 0.24|Very Good|    I|   VVS1| 62.3|   57|  336|3.95|3.98|2.47|\n",
            "| 0.26|Very Good|    H|    SI1| 61.9|   55|  337|4.07|4.11|2.53|\n",
            "| 0.22|     Fair|    E|    VS2| 65.1|   61|  337|3.87|3.78|2.49|\n",
            "| 0.23|Very Good|    H|    VS1| 59.4|   61|  338|   4|4.05|2.39|\n",
            "+-----+---------+-----+-------+-----+-----+-----+----+----+----+\n",
            "only showing top 10 rows\n",
            "\n"
          ]
        }
      ],
      "source": [
        "# Method 2: Useful Action with show()\n",
        "# Show first 10 datapoints\n",
        "df.show(10)"
      ]
    },
    {
      "cell_type": "code",
      "execution_count": 17,
      "id": "variable-wells",
      "metadata": {
        "colab": {
          "base_uri": "https://localhost:8080/"
        },
        "id": "variable-wells",
        "outputId": "3cb8ef92-7a50-4bdd-b1cf-2065f4efc40a"
      },
      "outputs": [
        {
          "output_type": "execute_result",
          "data": {
            "text/plain": [
              "[Row(carat='0.72', cut='Ideal', color='D', clarity='SI1', depth='60.8', table='57', price='2757', x='5.75', y='5.76', z='3.5'),\n",
              " Row(carat='0.72', cut='Good', color='D', clarity='SI1', depth='63.1', table='55', price='2757', x='5.69', y='5.75', z='3.61'),\n",
              " Row(carat='0.7', cut='Very Good', color='D', clarity='SI1', depth='62.8', table='60', price='2757', x='5.66', y='5.68', z='3.56'),\n",
              " Row(carat='0.86', cut='Premium', color='H', clarity='SI2', depth='61', table='58', price='2757', x='6.15', y='6.12', z='3.74'),\n",
              " Row(carat='0.75', cut='Ideal', color='D', clarity='SI2', depth='62.2', table='55', price='2757', x='5.83', y='5.87', z='3.64')]"
            ]
          },
          "metadata": {},
          "execution_count": 17
        }
      ],
      "source": [
        "# Get Last Rows\n",
        "df.tail(5)"
      ]
    },
    {
      "cell_type": "markdown",
      "id": "macro-provision",
      "metadata": {
        "id": "macro-provision"
      },
      "source": [
        "### Selection of columns\n",
        "+ .select\n",
        "######  Note\n",
        "+ Dot & Bracket Notation only gives the column name not the entire column\n",
        "    - ['colA']*\n",
        "    - .colA*"
      ]
    },
    {
      "cell_type": "code",
      "execution_count": 18,
      "id": "amended-robert",
      "metadata": {
        "colab": {
          "base_uri": "https://localhost:8080/"
        },
        "id": "amended-robert",
        "outputId": "b146a580-0cda-4049-a6e3-b9122ec73634"
      },
      "outputs": [
        {
          "output_type": "execute_result",
          "data": {
            "text/plain": [
              "['carat', 'cut', 'color', 'clarity', 'depth', 'table', 'price', 'x', 'y', 'z']"
            ]
          },
          "metadata": {},
          "execution_count": 18
        }
      ],
      "source": [
        "# List all Columns\n",
        "df.columns"
      ]
    },
    {
      "cell_type": "code",
      "execution_count": 19,
      "id": "elementary-eligibility",
      "metadata": {
        "colab": {
          "base_uri": "https://localhost:8080/"
        },
        "id": "elementary-eligibility",
        "outputId": "d4e21ad3-ea04-4620-dbfa-98da682028a2"
      },
      "outputs": [
        {
          "output_type": "stream",
          "name": "stdout",
          "text": [
            "+-----+\n",
            "|carat|\n",
            "+-----+\n",
            "| 0.23|\n",
            "| 0.21|\n",
            "| 0.23|\n",
            "| 0.29|\n",
            "| 0.31|\n",
            "| 0.24|\n",
            "| 0.24|\n",
            "| 0.26|\n",
            "| 0.22|\n",
            "| 0.23|\n",
            "|  0.3|\n",
            "| 0.23|\n",
            "| 0.22|\n",
            "| 0.31|\n",
            "|  0.2|\n",
            "| 0.32|\n",
            "|  0.3|\n",
            "|  0.3|\n",
            "|  0.3|\n",
            "|  0.3|\n",
            "+-----+\n",
            "only showing top 20 rows\n",
            "\n"
          ]
        }
      ],
      "source": [
        "# Select A Column\n",
        "df.select('carat').show()"
      ]
    },
    {
      "cell_type": "code",
      "execution_count": 20,
      "id": "compatible-investigator",
      "metadata": {
        "colab": {
          "base_uri": "https://localhost:8080/"
        },
        "id": "compatible-investigator",
        "outputId": "7c839988-5f6d-4537-a169-5e96e3ac3a1e"
      },
      "outputs": [
        {
          "output_type": "stream",
          "name": "stdout",
          "text": [
            "+-----+\n",
            "|CARAT|\n",
            "+-----+\n",
            "| 0.23|\n",
            "| 0.21|\n",
            "| 0.23|\n",
            "| 0.29|\n",
            "| 0.31|\n",
            "| 0.24|\n",
            "| 0.24|\n",
            "| 0.26|\n",
            "| 0.22|\n",
            "| 0.23|\n",
            "|  0.3|\n",
            "| 0.23|\n",
            "| 0.22|\n",
            "| 0.31|\n",
            "|  0.2|\n",
            "| 0.32|\n",
            "|  0.3|\n",
            "|  0.3|\n",
            "|  0.3|\n",
            "|  0.3|\n",
            "+-----+\n",
            "only showing top 20 rows\n",
            "\n"
          ]
        }
      ],
      "source": [
        "# Select A Column irrespective of column word case\n",
        "# will work irrespective of the case of the column once it is found within the dataset\n",
        "df.select('CARAT').show()"
      ]
    },
    {
      "cell_type": "code",
      "execution_count": 21,
      "id": "unnecessary-yeast",
      "metadata": {
        "colab": {
          "base_uri": "https://localhost:8080/"
        },
        "id": "unnecessary-yeast",
        "outputId": "1db4740d-1b35-40f8-a060-ab582455e5e9"
      },
      "outputs": [
        {
          "output_type": "execute_result",
          "data": {
            "text/plain": [
              "Column<'carat'>"
            ]
          },
          "metadata": {},
          "execution_count": 21
        }
      ],
      "source": [
        "# This is not as we would expect in pandas\n",
        "# For Bracket Notation : pick column name not the entire columne\n",
        "df['carat']"
      ]
    },
    {
      "cell_type": "code",
      "execution_count": 22,
      "id": "athletic-heath",
      "metadata": {
        "colab": {
          "base_uri": "https://localhost:8080/"
        },
        "id": "athletic-heath",
        "outputId": "01dc2242-0d23-47a3-9e8f-ff7f24d3f878"
      },
      "outputs": [
        {
          "output_type": "execute_result",
          "data": {
            "text/plain": [
              "Column<'carat'>"
            ]
          },
          "metadata": {},
          "execution_count": 22
        }
      ],
      "source": [
        "# This is not as we would expect in pandas\n",
        "# For Dot Notation : pick column name not the entire column\n",
        "df.carat"
      ]
    },
    {
      "cell_type": "code",
      "execution_count": 23,
      "id": "detailed-karma",
      "metadata": {
        "colab": {
          "base_uri": "https://localhost:8080/"
        },
        "id": "detailed-karma",
        "outputId": "3414a1d1-8bd1-47c8-f616-2f39f0c1b444"
      },
      "outputs": [
        {
          "output_type": "stream",
          "name": "stdout",
          "text": [
            "+-----+-------+\n",
            "|carat|    cut|\n",
            "+-----+-------+\n",
            "| 0.23|  Ideal|\n",
            "| 0.21|Premium|\n",
            "| 0.23|   Good|\n",
            "| 0.29|Premium|\n",
            "| 0.31|   Good|\n",
            "+-----+-------+\n",
            "only showing top 5 rows\n",
            "\n"
          ]
        }
      ],
      "source": [
        "# Select Multiple Columns\n",
        "df.select('carat','cut').show(5)"
      ]
    },
    {
      "cell_type": "markdown",
      "id": "distant-mathematics",
      "metadata": {
        "id": "distant-mathematics"
      },
      "source": [
        "### Column Filtering and Applying Conditions\n",
        "+ .filter\n",
        "+ .where"
      ]
    },
    {
      "cell_type": "code",
      "execution_count": 24,
      "id": "responsible-archive",
      "metadata": {
        "colab": {
          "base_uri": "https://localhost:8080/"
        },
        "id": "responsible-archive",
        "outputId": "502cfcc3-6507-48ab-f136-746ba9a4c4a7"
      },
      "outputs": [
        {
          "output_type": "stream",
          "name": "stdout",
          "text": [
            "+-----+---------+-----+-------+-----+-----+-----+----+----+----+\n",
            "|carat|      cut|color|clarity|depth|table|price|   x|   y|   z|\n",
            "+-----+---------+-----+-------+-----+-----+-----+----+----+----+\n",
            "| 0.23|    Ideal|    E|    SI2| 61.5|   55|  326|3.95|3.98|2.43|\n",
            "| 0.21|  Premium|    E|    SI1| 59.8|   61|  326|3.89|3.84|2.31|\n",
            "| 0.23|     Good|    E|    VS1| 56.9|   65|  327|4.05|4.07|2.31|\n",
            "| 0.29|  Premium|    I|    VS2| 62.4|   58|  334| 4.2|4.23|2.63|\n",
            "| 0.31|     Good|    J|    SI2| 63.3|   58|  335|4.34|4.35|2.75|\n",
            "| 0.24|Very Good|    J|   VVS2| 62.8|   57|  336|3.94|3.96|2.48|\n",
            "| 0.24|Very Good|    I|   VVS1| 62.3|   57|  336|3.95|3.98|2.47|\n",
            "| 0.26|Very Good|    H|    SI1| 61.9|   55|  337|4.07|4.11|2.53|\n",
            "| 0.22|     Fair|    E|    VS2| 65.1|   61|  337|3.87|3.78|2.49|\n",
            "| 0.23|Very Good|    H|    VS1| 59.4|   61|  338|   4|4.05|2.39|\n",
            "+-----+---------+-----+-------+-----+-----+-----+----+----+----+\n",
            "only showing top 10 rows\n",
            "\n"
          ]
        }
      ],
      "source": [
        "# Filter of Columns\n",
        "# Apply A Condition\n",
        "df.show(10)"
      ]
    },
    {
      "cell_type": "code",
      "execution_count": 25,
      "id": "baking-reset",
      "metadata": {
        "colab": {
          "base_uri": "https://localhost:8080/"
        },
        "id": "baking-reset",
        "outputId": "793e3b81-d431-4f91-abe9-805bedf17100"
      },
      "outputs": [
        {
          "output_type": "stream",
          "name": "stdout",
          "text": [
            "+-----+----+-----+-------+-----+-----+-----+----+----+----+\n",
            "|carat| cut|color|clarity|depth|table|price|   x|   y|   z|\n",
            "+-----+----+-----+-------+-----+-----+-----+----+----+----+\n",
            "| 0.23|Good|    E|    VS1| 56.9|   65|  327|4.05|4.07|2.31|\n",
            "| 0.31|Good|    J|    SI2| 63.3|   58|  335|4.34|4.35|2.75|\n",
            "|  0.3|Good|    J|    SI1|   64|   55|  339|4.25|4.28|2.73|\n",
            "|  0.3|Good|    J|    SI1| 63.4|   54|  351|4.23|4.29| 2.7|\n",
            "|  0.3|Good|    J|    SI1| 63.8|   56|  351|4.23|4.26|2.71|\n",
            "|  0.3|Good|    I|    SI2| 63.3|   56|  351|4.26| 4.3|2.71|\n",
            "| 0.23|Good|    F|    VS1| 58.2|   59|  402|4.06|4.08|2.37|\n",
            "| 0.23|Good|    E|    VS1| 64.1|   59|  402|3.83|3.85|2.46|\n",
            "| 0.31|Good|    H|    SI1|   64|   54|  402|4.29|4.31|2.75|\n",
            "| 0.26|Good|    D|    VS2| 65.2|   56|  403|3.99|4.02|2.61|\n",
            "| 0.26|Good|    D|    VS1| 58.4|   63|  403|4.19|4.24|2.46|\n",
            "| 0.32|Good|    H|    SI2| 63.1|   56|  403|4.34|4.37|2.75|\n",
            "| 0.32|Good|    H|    SI2| 63.8|   56|  403|4.36|4.38|2.79|\n",
            "|  0.3|Good|    I|    SI1| 63.2|   55|  405|4.25|4.29| 2.7|\n",
            "|  0.3|Good|    H|    SI1| 63.7|   57|  554|4.28|4.26|2.72|\n",
            "| 0.26|Good|    E|   VVS1| 57.9|   60|  554|4.22|4.25|2.45|\n",
            "|  0.7|Good|    E|    VS2| 57.5|   58| 2759|5.85| 5.9|3.38|\n",
            "|  0.7|Good|    F|    VS1| 59.4|   62| 2759|5.71|5.76| 3.4|\n",
            "|  0.7|Good|    H|   VVS2| 62.1|   64| 2767|5.62|5.65| 3.5|\n",
            "| 0.71|Good|    E|    VS2| 59.2|   61| 2772| 5.8|5.88|3.46|\n",
            "+-----+----+-----+-------+-----+-----+-----+----+----+----+\n",
            "only showing top 20 rows\n",
            "\n"
          ]
        }
      ],
      "source": [
        "# Method 1:using filter\n",
        "df.filter(df['cut'] == \"Good\").show()"
      ]
    },
    {
      "cell_type": "code",
      "execution_count": 26,
      "id": "printable-speech",
      "metadata": {
        "colab": {
          "base_uri": "https://localhost:8080/"
        },
        "id": "printable-speech",
        "outputId": "68b6d3bd-2715-4479-b723-e3334bfeb447"
      },
      "outputs": [
        {
          "output_type": "stream",
          "name": "stdout",
          "text": [
            "+-----+---------+-----+-------+-----+-----+-----+----+----+----+\n",
            "|carat|      cut|color|clarity|depth|table|price|   x|   y|   z|\n",
            "+-----+---------+-----+-------+-----+-----+-----+----+----+----+\n",
            "|  0.7|    Ideal|    E|    SI1| 62.5|   57| 2757| 5.7|5.72|3.57|\n",
            "| 0.86|     Fair|    E|    SI2| 55.1|   69| 2757|6.45|6.33|3.52|\n",
            "|  0.7|    Ideal|    G|    VS2| 61.6|   56| 2757| 5.7|5.67| 3.5|\n",
            "| 0.71|Very Good|    E|    VS2| 62.4|   57| 2759|5.68|5.73|3.56|\n",
            "| 0.78|Very Good|    G|    SI2| 63.8|   56| 2759|5.81|5.85|3.72|\n",
            "|  0.7|     Good|    E|    VS2| 57.5|   58| 2759|5.85| 5.9|3.38|\n",
            "|  0.7|     Good|    F|    VS1| 59.4|   62| 2759|5.71|5.76| 3.4|\n",
            "| 0.96|     Fair|    F|    SI2| 66.3|   62| 2759|6.27|5.95|4.07|\n",
            "| 0.73|Very Good|    E|    SI1| 61.6|   59| 2760|5.77|5.78|3.56|\n",
            "|  0.8|  Premium|    H|    SI1| 61.5|   58| 2760|5.97|5.93|3.66|\n",
            "| 0.75|Very Good|    D|    SI1| 63.2|   56| 2760| 5.8|5.75|3.65|\n",
            "| 0.75|  Premium|    E|    SI1| 59.9|   54| 2760|   6|5.96|3.58|\n",
            "| 0.74|    Ideal|    G|    SI1| 61.6|   55| 2760| 5.8|5.85|3.59|\n",
            "| 0.75|  Premium|    G|    VS2| 61.7|   58| 2760|5.85|5.79|3.59|\n",
            "|  0.8|    Ideal|    I|    VS1| 62.9|   56| 2760|5.94|5.87|3.72|\n",
            "| 0.75|    Ideal|    G|    SI1| 62.2|   55| 2760|5.87| 5.8|3.63|\n",
            "|  0.8|  Premium|    G|    SI1|   63|   59| 2760| 5.9|5.81|3.69|\n",
            "| 0.74|    Ideal|    I|   VVS2| 62.3|   55| 2761|5.77|5.81|3.61|\n",
            "| 0.81|    Ideal|    F|    SI2| 58.8|   57| 2761|6.14|6.11| 3.6|\n",
            "|  0.8|    Ideal|    F|    SI2| 61.4|   57| 2761|5.96|   6|3.67|\n",
            "+-----+---------+-----+-------+-----+-----+-----+----+----+----+\n",
            "only showing top 20 rows\n",
            "\n"
          ]
        }
      ],
      "source": [
        "# Method 1:using filter\n",
        "df.filter(df.carat >= 0.7).show()"
      ]
    },
    {
      "cell_type": "code",
      "execution_count": 27,
      "id": "personal-monster",
      "metadata": {
        "colab": {
          "base_uri": "https://localhost:8080/"
        },
        "id": "personal-monster",
        "outputId": "005031e0-a5d5-4e24-acdc-3d20341e1e51"
      },
      "outputs": [
        {
          "output_type": "stream",
          "name": "stdout",
          "text": [
            "+-----+----+-----+-------+-----+-----+-----+----+----+----+\n",
            "|carat| cut|color|clarity|depth|table|price|   x|   y|   z|\n",
            "+-----+----+-----+-------+-----+-----+-----+----+----+----+\n",
            "| 0.23|Good|    E|    VS1| 56.9|   65|  327|4.05|4.07|2.31|\n",
            "| 0.31|Good|    J|    SI2| 63.3|   58|  335|4.34|4.35|2.75|\n",
            "|  0.3|Good|    J|    SI1|   64|   55|  339|4.25|4.28|2.73|\n",
            "|  0.3|Good|    J|    SI1| 63.4|   54|  351|4.23|4.29| 2.7|\n",
            "|  0.3|Good|    J|    SI1| 63.8|   56|  351|4.23|4.26|2.71|\n",
            "|  0.3|Good|    I|    SI2| 63.3|   56|  351|4.26| 4.3|2.71|\n",
            "| 0.23|Good|    F|    VS1| 58.2|   59|  402|4.06|4.08|2.37|\n",
            "| 0.23|Good|    E|    VS1| 64.1|   59|  402|3.83|3.85|2.46|\n",
            "| 0.31|Good|    H|    SI1|   64|   54|  402|4.29|4.31|2.75|\n",
            "| 0.26|Good|    D|    VS2| 65.2|   56|  403|3.99|4.02|2.61|\n",
            "| 0.26|Good|    D|    VS1| 58.4|   63|  403|4.19|4.24|2.46|\n",
            "| 0.32|Good|    H|    SI2| 63.1|   56|  403|4.34|4.37|2.75|\n",
            "| 0.32|Good|    H|    SI2| 63.8|   56|  403|4.36|4.38|2.79|\n",
            "|  0.3|Good|    I|    SI1| 63.2|   55|  405|4.25|4.29| 2.7|\n",
            "|  0.3|Good|    H|    SI1| 63.7|   57|  554|4.28|4.26|2.72|\n",
            "| 0.26|Good|    E|   VVS1| 57.9|   60|  554|4.22|4.25|2.45|\n",
            "|  0.7|Good|    E|    VS2| 57.5|   58| 2759|5.85| 5.9|3.38|\n",
            "|  0.7|Good|    F|    VS1| 59.4|   62| 2759|5.71|5.76| 3.4|\n",
            "|  0.7|Good|    H|   VVS2| 62.1|   64| 2767|5.62|5.65| 3.5|\n",
            "| 0.71|Good|    E|    VS2| 59.2|   61| 2772| 5.8|5.88|3.46|\n",
            "+-----+----+-----+-------+-----+-----+-----+----+----+----+\n",
            "only showing top 20 rows\n",
            "\n"
          ]
        }
      ],
      "source": [
        "# Method 2: where\n",
        "df.where(df['cut'] == 'Good').show()"
      ]
    },
    {
      "cell_type": "code",
      "execution_count": 28,
      "id": "theoretical-ghost",
      "metadata": {
        "colab": {
          "base_uri": "https://localhost:8080/"
        },
        "id": "theoretical-ghost",
        "outputId": "4ffe1428-56b8-43f5-abd3-a4ad41ff578f"
      },
      "outputs": [
        {
          "output_type": "stream",
          "name": "stdout",
          "text": [
            "+-----+----+\n",
            "|price| cut|\n",
            "+-----+----+\n",
            "|  327|Good|\n",
            "|  335|Good|\n",
            "|  339|Good|\n",
            "|  351|Good|\n",
            "|  351|Good|\n",
            "|  351|Good|\n",
            "|  402|Good|\n",
            "|  402|Good|\n",
            "|  402|Good|\n",
            "|  403|Good|\n",
            "|  403|Good|\n",
            "|  403|Good|\n",
            "|  403|Good|\n",
            "|  405|Good|\n",
            "|  554|Good|\n",
            "|  554|Good|\n",
            "| 2759|Good|\n",
            "| 2759|Good|\n",
            "| 2767|Good|\n",
            "| 2772|Good|\n",
            "+-----+----+\n",
            "only showing top 20 rows\n",
            "\n"
          ]
        }
      ],
      "source": [
        "# Method 2: where\n",
        "# select certain columns\n",
        "df.where(df['cut'] == 'Good').select('price','cut').show()"
      ]
    },
    {
      "cell_type": "code",
      "execution_count": 29,
      "id": "motivated-nevada",
      "metadata": {
        "colab": {
          "base_uri": "https://localhost:8080/"
        },
        "id": "motivated-nevada",
        "outputId": "547f6a57-3451-49c1-99f5-3cd0ea671193"
      },
      "outputs": [
        {
          "output_type": "stream",
          "name": "stdout",
          "text": [
            "+---------+\n",
            "|      cut|\n",
            "+---------+\n",
            "|  Premium|\n",
            "|    Ideal|\n",
            "|     Good|\n",
            "|     Fair|\n",
            "|Very Good|\n",
            "+---------+\n",
            "\n"
          ]
        }
      ],
      "source": [
        "# Unique Values\n",
        "# df['cut'].unique()\n",
        "df.select(\"cut\").distinct().show()"
      ]
    },
    {
      "cell_type": "markdown",
      "id": "strange-heritage",
      "metadata": {
        "id": "strange-heritage"
      },
      "source": [
        "### How to Add Columns & Delete/Drop Columns\n",
        "+ .withColumn()\n",
        "+ .drop()"
      ]
    },
    {
      "cell_type": "code",
      "execution_count": 30,
      "id": "sharing-trouble",
      "metadata": {
        "colab": {
          "base_uri": "https://localhost:8080/"
        },
        "id": "sharing-trouble",
        "outputId": "3a2a926a-847e-4982-d356-637ba484080f"
      },
      "outputs": [
        {
          "output_type": "stream",
          "name": "stdout",
          "text": [
            "+-----+---------+-----+-------+-----+-----+-----+----+----+----+------------------+\n",
            "|carat|      cut|color|clarity|depth|table|price|   x|   y|   z|          carat10x|\n",
            "+-----+---------+-----+-------+-----+-----+-----+----+----+----+------------------+\n",
            "| 0.23|    Ideal|    E|    SI2| 61.5|   55|  326|3.95|3.98|2.43|2.3000000000000003|\n",
            "| 0.21|  Premium|    E|    SI1| 59.8|   61|  326|3.89|3.84|2.31|               2.1|\n",
            "| 0.23|     Good|    E|    VS1| 56.9|   65|  327|4.05|4.07|2.31|2.3000000000000003|\n",
            "| 0.29|  Premium|    I|    VS2| 62.4|   58|  334| 4.2|4.23|2.63|               2.9|\n",
            "| 0.31|     Good|    J|    SI2| 63.3|   58|  335|4.34|4.35|2.75|               3.1|\n",
            "| 0.24|Very Good|    J|   VVS2| 62.8|   57|  336|3.94|3.96|2.48|               2.4|\n",
            "| 0.24|Very Good|    I|   VVS1| 62.3|   57|  336|3.95|3.98|2.47|               2.4|\n",
            "| 0.26|Very Good|    H|    SI1| 61.9|   55|  337|4.07|4.11|2.53|               2.6|\n",
            "| 0.22|     Fair|    E|    VS2| 65.1|   61|  337|3.87|3.78|2.49|               2.2|\n",
            "| 0.23|Very Good|    H|    VS1| 59.4|   61|  338|   4|4.05|2.39|2.3000000000000003|\n",
            "|  0.3|     Good|    J|    SI1|   64|   55|  339|4.25|4.28|2.73|               3.0|\n",
            "| 0.23|    Ideal|    J|    VS1| 62.8|   56|  340|3.93| 3.9|2.46|2.3000000000000003|\n",
            "| 0.22|  Premium|    F|    SI1| 60.4|   61|  342|3.88|3.84|2.33|               2.2|\n",
            "| 0.31|    Ideal|    J|    SI2| 62.2|   54|  344|4.35|4.37|2.71|               3.1|\n",
            "|  0.2|  Premium|    E|    SI2| 60.2|   62|  345|3.79|3.75|2.27|               2.0|\n",
            "| 0.32|  Premium|    E|     I1| 60.9|   58|  345|4.38|4.42|2.68|               3.2|\n",
            "|  0.3|    Ideal|    I|    SI2|   62|   54|  348|4.31|4.34|2.68|               3.0|\n",
            "|  0.3|     Good|    J|    SI1| 63.4|   54|  351|4.23|4.29| 2.7|               3.0|\n",
            "|  0.3|     Good|    J|    SI1| 63.8|   56|  351|4.23|4.26|2.71|               3.0|\n",
            "|  0.3|Very Good|    J|    SI1| 62.7|   59|  351|4.21|4.27|2.66|               3.0|\n",
            "+-----+---------+-----+-------+-----+-----+-----+----+----+----+------------------+\n",
            "only showing top 20 rows\n",
            "\n"
          ]
        }
      ],
      "source": [
        "# Add Columns\n",
        "df.withColumn(\"carat10x\",df['carat'] * 10).show()"
      ]
    },
    {
      "cell_type": "code",
      "execution_count": 31,
      "id": "approved-tuner",
      "metadata": {
        "colab": {
          "base_uri": "https://localhost:8080/"
        },
        "id": "approved-tuner",
        "outputId": "ef6eb0b6-0d37-48a4-875a-d8c2ca15f756"
      },
      "outputs": [
        {
          "output_type": "stream",
          "name": "stdout",
          "text": [
            "+-----+---------+-----+-------+-----+-----+-----+----+----+----+\n",
            "|carat|      cut|color|clarity|depth|table|price|   x|   y|   z|\n",
            "+-----+---------+-----+-------+-----+-----+-----+----+----+----+\n",
            "| 0.23|    Ideal|    E|    SI2| 61.5|   55|  326|3.95|3.98|2.43|\n",
            "| 0.21|  Premium|    E|    SI1| 59.8|   61|  326|3.89|3.84|2.31|\n",
            "| 0.23|     Good|    E|    VS1| 56.9|   65|  327|4.05|4.07|2.31|\n",
            "| 0.29|  Premium|    I|    VS2| 62.4|   58|  334| 4.2|4.23|2.63|\n",
            "| 0.31|     Good|    J|    SI2| 63.3|   58|  335|4.34|4.35|2.75|\n",
            "| 0.24|Very Good|    J|   VVS2| 62.8|   57|  336|3.94|3.96|2.48|\n",
            "| 0.24|Very Good|    I|   VVS1| 62.3|   57|  336|3.95|3.98|2.47|\n",
            "| 0.26|Very Good|    H|    SI1| 61.9|   55|  337|4.07|4.11|2.53|\n",
            "| 0.22|     Fair|    E|    VS2| 65.1|   61|  337|3.87|3.78|2.49|\n",
            "| 0.23|Very Good|    H|    VS1| 59.4|   61|  338|   4|4.05|2.39|\n",
            "|  0.3|     Good|    J|    SI1|   64|   55|  339|4.25|4.28|2.73|\n",
            "| 0.23|    Ideal|    J|    VS1| 62.8|   56|  340|3.93| 3.9|2.46|\n",
            "| 0.22|  Premium|    F|    SI1| 60.4|   61|  342|3.88|3.84|2.33|\n",
            "| 0.31|    Ideal|    J|    SI2| 62.2|   54|  344|4.35|4.37|2.71|\n",
            "|  0.2|  Premium|    E|    SI2| 60.2|   62|  345|3.79|3.75|2.27|\n",
            "| 0.32|  Premium|    E|     I1| 60.9|   58|  345|4.38|4.42|2.68|\n",
            "|  0.3|    Ideal|    I|    SI2|   62|   54|  348|4.31|4.34|2.68|\n",
            "|  0.3|     Good|    J|    SI1| 63.4|   54|  351|4.23|4.29| 2.7|\n",
            "|  0.3|     Good|    J|    SI1| 63.8|   56|  351|4.23|4.26|2.71|\n",
            "|  0.3|Very Good|    J|    SI1| 62.7|   59|  351|4.21|4.27|2.66|\n",
            "+-----+---------+-----+-------+-----+-----+-----+----+----+----+\n",
            "only showing top 20 rows\n",
            "\n"
          ]
        }
      ],
      "source": [
        "df.show()"
      ]
    },
    {
      "cell_type": "code",
      "execution_count": 32,
      "id": "challenging-quebec",
      "metadata": {
        "colab": {
          "base_uri": "https://localhost:8080/"
        },
        "id": "challenging-quebec",
        "outputId": "36a3d7b8-463d-493c-80a4-d8d8cf91b1a0"
      },
      "outputs": [
        {
          "output_type": "stream",
          "name": "stdout",
          "text": [
            "+-----+---------+-----+-------+-----+-----+-----+----+----+----+------------------+\n",
            "|carat|      cut|color|clarity|depth|table|price|   x|   y|   z|          carat10x|\n",
            "+-----+---------+-----+-------+-----+-----+-----+----+----+----+------------------+\n",
            "| 0.23|    Ideal|    E|    SI2| 61.5|   55|  326|3.95|3.98|2.43|2.3000000000000003|\n",
            "| 0.21|  Premium|    E|    SI1| 59.8|   61|  326|3.89|3.84|2.31|               2.1|\n",
            "| 0.23|     Good|    E|    VS1| 56.9|   65|  327|4.05|4.07|2.31|2.3000000000000003|\n",
            "| 0.29|  Premium|    I|    VS2| 62.4|   58|  334| 4.2|4.23|2.63|               2.9|\n",
            "| 0.31|     Good|    J|    SI2| 63.3|   58|  335|4.34|4.35|2.75|               3.1|\n",
            "| 0.24|Very Good|    J|   VVS2| 62.8|   57|  336|3.94|3.96|2.48|               2.4|\n",
            "| 0.24|Very Good|    I|   VVS1| 62.3|   57|  336|3.95|3.98|2.47|               2.4|\n",
            "| 0.26|Very Good|    H|    SI1| 61.9|   55|  337|4.07|4.11|2.53|               2.6|\n",
            "| 0.22|     Fair|    E|    VS2| 65.1|   61|  337|3.87|3.78|2.49|               2.2|\n",
            "| 0.23|Very Good|    H|    VS1| 59.4|   61|  338|   4|4.05|2.39|2.3000000000000003|\n",
            "|  0.3|     Good|    J|    SI1|   64|   55|  339|4.25|4.28|2.73|               3.0|\n",
            "| 0.23|    Ideal|    J|    VS1| 62.8|   56|  340|3.93| 3.9|2.46|2.3000000000000003|\n",
            "| 0.22|  Premium|    F|    SI1| 60.4|   61|  342|3.88|3.84|2.33|               2.2|\n",
            "| 0.31|    Ideal|    J|    SI2| 62.2|   54|  344|4.35|4.37|2.71|               3.1|\n",
            "|  0.2|  Premium|    E|    SI2| 60.2|   62|  345|3.79|3.75|2.27|               2.0|\n",
            "| 0.32|  Premium|    E|     I1| 60.9|   58|  345|4.38|4.42|2.68|               3.2|\n",
            "|  0.3|    Ideal|    I|    SI2|   62|   54|  348|4.31|4.34|2.68|               3.0|\n",
            "|  0.3|     Good|    J|    SI1| 63.4|   54|  351|4.23|4.29| 2.7|               3.0|\n",
            "|  0.3|     Good|    J|    SI1| 63.8|   56|  351|4.23|4.26|2.71|               3.0|\n",
            "|  0.3|Very Good|    J|    SI1| 62.7|   59|  351|4.21|4.27|2.66|               3.0|\n",
            "+-----+---------+-----+-------+-----+-----+-----+----+----+----+------------------+\n",
            "only showing top 20 rows\n",
            "\n"
          ]
        }
      ],
      "source": [
        "df2 = df.withColumn(\"carat10x\",df['carat'] * 10)\n",
        "df2.show()"
      ]
    },
    {
      "cell_type": "code",
      "execution_count": 33,
      "id": "metropolitan-reminder",
      "metadata": {
        "colab": {
          "base_uri": "https://localhost:8080/"
        },
        "id": "metropolitan-reminder",
        "outputId": "09216f61-aab5-43b0-ef3b-d8d0d4f6243b"
      },
      "outputs": [
        {
          "output_type": "stream",
          "name": "stdout",
          "text": [
            "+-----+---------+-----+-------+-----+-----+-----+----+----+----+\n",
            "|carat|      cut|color|clarity|depth|table|price|   x|   y|   z|\n",
            "+-----+---------+-----+-------+-----+-----+-----+----+----+----+\n",
            "| 0.23|    Ideal|    E|    SI2| 61.5|   55|  326|3.95|3.98|2.43|\n",
            "| 0.21|  Premium|    E|    SI1| 59.8|   61|  326|3.89|3.84|2.31|\n",
            "| 0.23|     Good|    E|    VS1| 56.9|   65|  327|4.05|4.07|2.31|\n",
            "| 0.29|  Premium|    I|    VS2| 62.4|   58|  334| 4.2|4.23|2.63|\n",
            "| 0.31|     Good|    J|    SI2| 63.3|   58|  335|4.34|4.35|2.75|\n",
            "| 0.24|Very Good|    J|   VVS2| 62.8|   57|  336|3.94|3.96|2.48|\n",
            "| 0.24|Very Good|    I|   VVS1| 62.3|   57|  336|3.95|3.98|2.47|\n",
            "| 0.26|Very Good|    H|    SI1| 61.9|   55|  337|4.07|4.11|2.53|\n",
            "| 0.22|     Fair|    E|    VS2| 65.1|   61|  337|3.87|3.78|2.49|\n",
            "| 0.23|Very Good|    H|    VS1| 59.4|   61|  338|   4|4.05|2.39|\n",
            "|  0.3|     Good|    J|    SI1|   64|   55|  339|4.25|4.28|2.73|\n",
            "| 0.23|    Ideal|    J|    VS1| 62.8|   56|  340|3.93| 3.9|2.46|\n",
            "| 0.22|  Premium|    F|    SI1| 60.4|   61|  342|3.88|3.84|2.33|\n",
            "| 0.31|    Ideal|    J|    SI2| 62.2|   54|  344|4.35|4.37|2.71|\n",
            "|  0.2|  Premium|    E|    SI2| 60.2|   62|  345|3.79|3.75|2.27|\n",
            "| 0.32|  Premium|    E|     I1| 60.9|   58|  345|4.38|4.42|2.68|\n",
            "|  0.3|    Ideal|    I|    SI2|   62|   54|  348|4.31|4.34|2.68|\n",
            "|  0.3|     Good|    J|    SI1| 63.4|   54|  351|4.23|4.29| 2.7|\n",
            "|  0.3|     Good|    J|    SI1| 63.8|   56|  351|4.23|4.26|2.71|\n",
            "|  0.3|Very Good|    J|    SI1| 62.7|   59|  351|4.21|4.27|2.66|\n",
            "+-----+---------+-----+-------+-----+-----+-----+----+----+----+\n",
            "only showing top 20 rows\n",
            "\n"
          ]
        }
      ],
      "source": [
        "# Delete/Drop A Column\n",
        "df2.drop('carat10x').show()"
      ]
    },
    {
      "cell_type": "markdown",
      "id": "international-railway",
      "metadata": {
        "id": "international-railway"
      },
      "source": [
        "### GroupBy\n",
        "+ value counts\n",
        "+ aggregate"
      ]
    },
    {
      "cell_type": "code",
      "execution_count": 34,
      "id": "greatest-theology",
      "metadata": {
        "colab": {
          "base_uri": "https://localhost:8080/"
        },
        "id": "greatest-theology",
        "outputId": "1f0efa35-95ea-457b-ca2e-91a9e6c673c3"
      },
      "outputs": [
        {
          "output_type": "stream",
          "name": "stdout",
          "text": [
            "+---------+-----+\n",
            "|      cut|count|\n",
            "+---------+-----+\n",
            "|  Premium|13791|\n",
            "|    Ideal|21551|\n",
            "|     Good| 4906|\n",
            "|     Fair| 1610|\n",
            "|Very Good|12082|\n",
            "+---------+-----+\n",
            "\n"
          ]
        }
      ],
      "source": [
        "# Value Counts\n",
        "# df['cut'].value_counts()\n",
        "# df.groupby('cut')[].size()\n",
        "df.groupBy('cut').count().show()"
      ]
    },
    {
      "cell_type": "code",
      "execution_count": 35,
      "id": "packed-virginia",
      "metadata": {
        "colab": {
          "base_uri": "https://localhost:8080/"
        },
        "id": "packed-virginia",
        "outputId": "a73b9854-a41a-4f33-dcc8-5f9d5da28d17"
      },
      "outputs": [
        {
          "output_type": "stream",
          "name": "stdout",
          "text": [
            "+-----+\n",
            "|price|\n",
            "+-----+\n",
            "| 2904|\n",
            "| 3210|\n",
            "| 3414|\n",
            "| 3606|\n",
            "| 3959|\n",
            "| 4032|\n",
            "| 4821|\n",
            "| 4937|\n",
            "| 5325|\n",
            "| 6194|\n",
            "| 6240|\n",
            "| 6613|\n",
            "| 6731|\n",
            "| 7273|\n",
            "| 7711|\n",
            "| 7762|\n",
            "| 9009|\n",
            "| 9030|\n",
            "| 9586|\n",
            "|10096|\n",
            "+-----+\n",
            "only showing top 20 rows\n",
            "\n"
          ]
        }
      ],
      "source": [
        "# More Groupby\n",
        "df.groupBy('price').mean().show()"
      ]
    },
    {
      "cell_type": "code",
      "execution_count": 36,
      "id": "pediatric-check",
      "metadata": {
        "colab": {
          "base_uri": "https://localhost:8080/"
        },
        "id": "pediatric-check",
        "outputId": "6782d7a3-55d7-4aeb-eb2a-b35e6b9363a3"
      },
      "outputs": [
        {
          "output_type": "stream",
          "name": "stdout",
          "text": [
            "+-----+\n",
            "|price|\n",
            "+-----+\n",
            "| 2904|\n",
            "| 3210|\n",
            "| 3414|\n",
            "| 3606|\n",
            "| 3959|\n",
            "| 4032|\n",
            "| 4821|\n",
            "| 4937|\n",
            "| 5325|\n",
            "| 6194|\n",
            "| 6240|\n",
            "| 6613|\n",
            "| 6731|\n",
            "| 7273|\n",
            "| 7711|\n",
            "| 7762|\n",
            "| 9009|\n",
            "| 9030|\n",
            "| 9586|\n",
            "|10096|\n",
            "+-----+\n",
            "only showing top 20 rows\n",
            "\n"
          ]
        }
      ],
      "source": [
        "#  Sum of A groupby\n",
        "df.groupBy('price').sum().show()"
      ]
    },
    {
      "cell_type": "code",
      "execution_count": 37,
      "id": "million-stick",
      "metadata": {
        "id": "million-stick"
      },
      "outputs": [],
      "source": [
        "# # Aggregation\n",
        "# df.groupBy('carat').agg('col':'sum')"
      ]
    },
    {
      "cell_type": "code",
      "execution_count": 38,
      "id": "executive-sheet",
      "metadata": {
        "colab": {
          "base_uri": "https://localhost:8080/"
        },
        "id": "executive-sheet",
        "outputId": "2756ffbc-aa4d-42e0-8544-e68c1511a349"
      },
      "outputs": [
        {
          "output_type": "stream",
          "name": "stdout",
          "text": [
            "+-----+---------+-----+-------+-----+-----+-----+----+----+----+\n",
            "|carat|      cut|color|clarity|depth|table|price|   x|   y|   z|\n",
            "+-----+---------+-----+-------+-----+-----+-----+----+----+----+\n",
            "| 0.23|    Ideal|    E|    SI2| 61.5|   55|  326|3.95|3.98|2.43|\n",
            "| 0.21|  Premium|    E|    SI1| 59.8|   61|  326|3.89|3.84|2.31|\n",
            "| 0.23|     Good|    E|    VS1| 56.9|   65|  327|4.05|4.07|2.31|\n",
            "| 0.29|  Premium|    I|    VS2| 62.4|   58|  334| 4.2|4.23|2.63|\n",
            "| 0.31|     Good|    J|    SI2| 63.3|   58|  335|4.34|4.35|2.75|\n",
            "| 0.24|Very Good|    J|   VVS2| 62.8|   57|  336|3.94|3.96|2.48|\n",
            "| 0.24|Very Good|    I|   VVS1| 62.3|   57|  336|3.95|3.98|2.47|\n",
            "| 0.26|Very Good|    H|    SI1| 61.9|   55|  337|4.07|4.11|2.53|\n",
            "| 0.22|     Fair|    E|    VS2| 65.1|   61|  337|3.87|3.78|2.49|\n",
            "| 0.23|Very Good|    H|    VS1| 59.4|   61|  338|   4|4.05|2.39|\n",
            "|  0.3|     Good|    J|    SI1|   64|   55|  339|4.25|4.28|2.73|\n",
            "| 0.23|    Ideal|    J|    VS1| 62.8|   56|  340|3.93| 3.9|2.46|\n",
            "| 0.22|  Premium|    F|    SI1| 60.4|   61|  342|3.88|3.84|2.33|\n",
            "| 0.31|    Ideal|    J|    SI2| 62.2|   54|  344|4.35|4.37|2.71|\n",
            "|  0.2|  Premium|    E|    SI2| 60.2|   62|  345|3.79|3.75|2.27|\n",
            "| 0.32|  Premium|    E|     I1| 60.9|   58|  345|4.38|4.42|2.68|\n",
            "|  0.3|    Ideal|    I|    SI2|   62|   54|  348|4.31|4.34|2.68|\n",
            "|  0.3|     Good|    J|    SI1| 63.4|   54|  351|4.23|4.29| 2.7|\n",
            "|  0.3|     Good|    J|    SI1| 63.8|   56|  351|4.23|4.26|2.71|\n",
            "|  0.3|Very Good|    J|    SI1| 62.7|   59|  351|4.21|4.27|2.66|\n",
            "+-----+---------+-----+-------+-----+-----+-----+----+----+----+\n",
            "only showing top 20 rows\n",
            "\n"
          ]
        }
      ],
      "source": [
        "df.show()"
      ]
    },
    {
      "cell_type": "code",
      "execution_count": 39,
      "id": "mounted-alberta",
      "metadata": {
        "colab": {
          "base_uri": "https://localhost:8080/"
        },
        "id": "mounted-alberta",
        "outputId": "fb73f49e-aea5-4605-92eb-d954cce3af7a"
      },
      "outputs": [
        {
          "output_type": "execute_result",
          "data": {
            "text/plain": [
              "['carat', 'cut', 'color', 'clarity', 'depth', 'table', 'price', 'x', 'y', 'z']"
            ]
          },
          "metadata": {},
          "execution_count": 39
        }
      ],
      "source": [
        "df.columns"
      ]
    },
    {
      "cell_type": "code",
      "execution_count": 40,
      "id": "classified-niger",
      "metadata": {
        "colab": {
          "base_uri": "https://localhost:8080/"
        },
        "id": "classified-niger",
        "outputId": "e295b1ee-00db-4910-c67d-693d7ca36b84"
      },
      "outputs": [
        {
          "output_type": "stream",
          "name": "stdout",
          "text": [
            "+-----+-----+-------+-----+-----+-----+----+----+----+---------+\n",
            "|carat|color|clarity|depth|table|price|   x|   y|   z|      cut|\n",
            "+-----+-----+-------+-----+-----+-----+----+----+----+---------+\n",
            "| 0.23|    E|    SI2| 61.5|   55|  326|3.95|3.98|2.43|    Ideal|\n",
            "| 0.21|    E|    SI1| 59.8|   61|  326|3.89|3.84|2.31|  Premium|\n",
            "| 0.23|    E|    VS1| 56.9|   65|  327|4.05|4.07|2.31|     Good|\n",
            "| 0.29|    I|    VS2| 62.4|   58|  334| 4.2|4.23|2.63|  Premium|\n",
            "| 0.31|    J|    SI2| 63.3|   58|  335|4.34|4.35|2.75|     Good|\n",
            "| 0.24|    J|   VVS2| 62.8|   57|  336|3.94|3.96|2.48|Very Good|\n",
            "| 0.24|    I|   VVS1| 62.3|   57|  336|3.95|3.98|2.47|Very Good|\n",
            "| 0.26|    H|    SI1| 61.9|   55|  337|4.07|4.11|2.53|Very Good|\n",
            "| 0.22|    E|    VS2| 65.1|   61|  337|3.87|3.78|2.49|     Fair|\n",
            "| 0.23|    H|    VS1| 59.4|   61|  338|   4|4.05|2.39|Very Good|\n",
            "|  0.3|    J|    SI1|   64|   55|  339|4.25|4.28|2.73|     Good|\n",
            "| 0.23|    J|    VS1| 62.8|   56|  340|3.93| 3.9|2.46|    Ideal|\n",
            "| 0.22|    F|    SI1| 60.4|   61|  342|3.88|3.84|2.33|  Premium|\n",
            "| 0.31|    J|    SI2| 62.2|   54|  344|4.35|4.37|2.71|    Ideal|\n",
            "|  0.2|    E|    SI2| 60.2|   62|  345|3.79|3.75|2.27|  Premium|\n",
            "| 0.32|    E|     I1| 60.9|   58|  345|4.38|4.42|2.68|  Premium|\n",
            "|  0.3|    I|    SI2|   62|   54|  348|4.31|4.34|2.68|    Ideal|\n",
            "|  0.3|    J|    SI1| 63.4|   54|  351|4.23|4.29| 2.7|     Good|\n",
            "|  0.3|    J|    SI1| 63.8|   56|  351|4.23|4.26|2.71|     Good|\n",
            "|  0.3|    J|    SI1| 62.7|   59|  351|4.21|4.27|2.66|Very Good|\n",
            "+-----+-----+-------+-----+-----+-----+----+----+----+---------+\n",
            "only showing top 20 rows\n",
            "\n"
          ]
        }
      ],
      "source": [
        "# Rearrange Columns\n",
        "df.select('carat', 'color', 'clarity', 'depth', 'table', 'price', 'x', 'y', 'z','cut').show()"
      ]
    },
    {
      "cell_type": "code",
      "execution_count": 41,
      "id": "incorporated-tonight",
      "metadata": {
        "colab": {
          "base_uri": "https://localhost:8080/"
        },
        "id": "incorporated-tonight",
        "outputId": "663ca44c-16ce-4198-b0a1-4469b8d22524"
      },
      "outputs": [
        {
          "output_type": "execute_result",
          "data": {
            "text/plain": [
              "DataFrame[carat: string, color: string, clarity: string, depth: string, table: string, price: string, x: string, y: string, z: string, cut: string]"
            ]
          },
          "metadata": {},
          "execution_count": 41
        }
      ],
      "source": [
        "# Assign DF to a New DF\n",
        "new_df = df.select('carat', 'color', 'clarity', 'depth', 'table', 'price', 'x', 'y', 'z','cut')\n",
        "new_df"
      ]
    },
    {
      "cell_type": "code",
      "execution_count": 42,
      "id": "capital-details",
      "metadata": {
        "colab": {
          "base_uri": "https://localhost:8080/"
        },
        "id": "capital-details",
        "outputId": "61d93209-d7ce-4220-c9e5-c409018da00a"
      },
      "outputs": [
        {
          "output_type": "execute_result",
          "data": {
            "text/plain": [
              "[('carat', 'string'),\n",
              " ('color', 'string'),\n",
              " ('clarity', 'string'),\n",
              " ('depth', 'string'),\n",
              " ('table', 'string'),\n",
              " ('price', 'string'),\n",
              " ('x', 'string'),\n",
              " ('y', 'string'),\n",
              " ('z', 'string'),\n",
              " ('cut', 'string')]"
            ]
          },
          "metadata": {},
          "execution_count": 42
        }
      ],
      "source": [
        "# Check Datatype\n",
        "new_df.dtypes"
      ]
    },
    {
      "cell_type": "code",
      "execution_count": 43,
      "id": "anonymous-pastor",
      "metadata": {
        "colab": {
          "base_uri": "https://localhost:8080/"
        },
        "id": "anonymous-pastor",
        "outputId": "142842b8-cfee-4c81-ed0d-4424b534b862"
      },
      "outputs": [
        {
          "output_type": "stream",
          "name": "stdout",
          "text": [
            "root\n",
            " |-- carat: string (nullable = true)\n",
            " |-- cut: string (nullable = true)\n",
            " |-- color: string (nullable = true)\n",
            " |-- clarity: string (nullable = true)\n",
            " |-- depth: string (nullable = true)\n",
            " |-- table: string (nullable = true)\n",
            " |-- price: string (nullable = true)\n",
            " |-- x: string (nullable = true)\n",
            " |-- y: string (nullable = true)\n",
            " |-- z: string (nullable = true)\n",
            "\n"
          ]
        }
      ],
      "source": [
        "# Check For the Schema\n",
        "df.printSchema()"
      ]
    },
    {
      "cell_type": "code",
      "execution_count": 44,
      "id": "known-thirty",
      "metadata": {
        "colab": {
          "base_uri": "https://localhost:8080/",
          "height": 187
        },
        "id": "known-thirty",
        "outputId": "61efdbfd-c1eb-476e-91ad-87414573d7ae"
      },
      "outputs": [
        {
          "output_type": "execute_result",
          "data": {
            "text/plain": [
              "pyspark.sql.dataframe.DataFrame"
            ],
            "text/html": [
              "<div style=\"max-width:800px; border: 1px solid var(--colab-border-color);\"><style>\n",
              "      pre.function-repr-contents {\n",
              "        overflow-x: auto;\n",
              "        padding: 8px 12px;\n",
              "        max-height: 500px;\n",
              "      }\n",
              "\n",
              "      pre.function-repr-contents.function-repr-contents-collapsed {\n",
              "        cursor: pointer;\n",
              "        max-height: 100px;\n",
              "      }\n",
              "    </style>\n",
              "    <pre style=\"white-space: initial; background:\n",
              "         var(--colab-secondary-surface-color); padding: 8px 12px;\n",
              "         border-bottom: 1px solid var(--colab-border-color);\"><b>pyspark.sql.dataframe.DataFrame</b><br/>def __init__(jdf: JavaObject, sql_ctx: Union[&#x27;SQLContext&#x27;, &#x27;SparkSession&#x27;])</pre><pre class=\"function-repr-contents function-repr-contents-collapsed\" style=\"\"><a class=\"filepath\" style=\"display:none\" href=\"#\">/usr/local/lib/python3.10/dist-packages/pyspark/sql/dataframe.py</a>A distributed collection of data grouped into named columns.\n",
              "\n",
              ".. versionadded:: 1.3.0\n",
              "\n",
              ".. versionchanged:: 3.4.0\n",
              "    Supports Spark Connect.\n",
              "\n",
              "Examples\n",
              "--------\n",
              "A :class:`DataFrame` is equivalent to a relational table in Spark SQL,\n",
              "and can be created using various functions in :class:`SparkSession`:\n",
              "\n",
              "&gt;&gt;&gt; people = spark.createDataFrame([\n",
              "...     {&quot;deptId&quot;: 1, &quot;age&quot;: 40, &quot;name&quot;: &quot;Hyukjin Kwon&quot;, &quot;gender&quot;: &quot;M&quot;, &quot;salary&quot;: 50},\n",
              "...     {&quot;deptId&quot;: 1, &quot;age&quot;: 50, &quot;name&quot;: &quot;Takuya Ueshin&quot;, &quot;gender&quot;: &quot;M&quot;, &quot;salary&quot;: 100},\n",
              "...     {&quot;deptId&quot;: 2, &quot;age&quot;: 60, &quot;name&quot;: &quot;Xinrong Meng&quot;, &quot;gender&quot;: &quot;F&quot;, &quot;salary&quot;: 150},\n",
              "...     {&quot;deptId&quot;: 3, &quot;age&quot;: 20, &quot;name&quot;: &quot;Haejoon Lee&quot;, &quot;gender&quot;: &quot;M&quot;, &quot;salary&quot;: 200}\n",
              "... ])\n",
              "\n",
              "Once created, it can be manipulated using the various domain-specific-language\n",
              "(DSL) functions defined in: :class:`DataFrame`, :class:`Column`.\n",
              "\n",
              "To select a column from the :class:`DataFrame`, use the apply method:\n",
              "\n",
              "&gt;&gt;&gt; age_col = people.age\n",
              "\n",
              "A more concrete example:\n",
              "\n",
              "&gt;&gt;&gt; # To create DataFrame using SparkSession\n",
              "... department = spark.createDataFrame([\n",
              "...     {&quot;id&quot;: 1, &quot;name&quot;: &quot;PySpark&quot;},\n",
              "...     {&quot;id&quot;: 2, &quot;name&quot;: &quot;ML&quot;},\n",
              "...     {&quot;id&quot;: 3, &quot;name&quot;: &quot;Spark SQL&quot;}\n",
              "... ])\n",
              "\n",
              "&gt;&gt;&gt; people.filter(people.age &gt; 30).join(\n",
              "...     department, people.deptId == department.id).groupBy(\n",
              "...     department.name, &quot;gender&quot;).agg({&quot;salary&quot;: &quot;avg&quot;, &quot;age&quot;: &quot;max&quot;}).show()\n",
              "+-------+------+-----------+--------+\n",
              "|   name|gender|avg(salary)|max(age)|\n",
              "+-------+------+-----------+--------+\n",
              "|     ML|     F|      150.0|      60|\n",
              "|PySpark|     M|       75.0|      50|\n",
              "+-------+------+-----------+--------+\n",
              "\n",
              "Notes\n",
              "-----\n",
              "A DataFrame should only be created as described above. It should not be directly\n",
              "created via using the constructor.</pre>\n",
              "      <script>\n",
              "      if (google.colab.kernel.accessAllowed && google.colab.files && google.colab.files.view) {\n",
              "        for (const element of document.querySelectorAll('.filepath')) {\n",
              "          element.style.display = 'block'\n",
              "          element.onclick = (event) => {\n",
              "            event.preventDefault();\n",
              "            event.stopPropagation();\n",
              "            google.colab.files.view(element.textContent, 80);\n",
              "          };\n",
              "        }\n",
              "      }\n",
              "      for (const element of document.querySelectorAll('.function-repr-contents')) {\n",
              "        element.onclick = (event) => {\n",
              "          event.preventDefault();\n",
              "          event.stopPropagation();\n",
              "          element.classList.toggle('function-repr-contents-collapsed');\n",
              "        };\n",
              "      }\n",
              "      </script>\n",
              "      </div>"
            ]
          },
          "metadata": {},
          "execution_count": 44
        }
      ],
      "source": [
        "# Check type of DF\n",
        "type(df)"
      ]
    },
    {
      "cell_type": "markdown",
      "id": "terminal-innocent",
      "metadata": {
        "id": "terminal-innocent"
      },
      "source": [
        "### Saving DataFrames as CSV,parquet etc"
      ]
    },
    {
      "cell_type": "code",
      "execution_count": 45,
      "id": "verified-theorem",
      "metadata": {
        "id": "verified-theorem"
      },
      "outputs": [],
      "source": [
        "# Save\n",
        "new_df.write.format('csv').option('header','true').save(\"diamond_clean.csv\")"
      ]
    },
    {
      "cell_type": "code",
      "execution_count": 46,
      "id": "eight-awareness",
      "metadata": {
        "colab": {
          "base_uri": "https://localhost:8080/"
        },
        "id": "eight-awareness",
        "outputId": "e00779dc-5fc6-4370-e8c9-d5660d955589"
      },
      "outputs": [
        {
          "output_type": "stream",
          "name": "stdout",
          "text": [
            "diamond_clean.csv  diamonds.csv  sample_data  x.parquet  y.csv\n"
          ]
        }
      ],
      "source": [
        "!ls"
      ]
    },
    {
      "cell_type": "code",
      "execution_count": 47,
      "id": "brave-array",
      "metadata": {
        "id": "brave-array"
      },
      "outputs": [],
      "source": [
        "# Save  as parquet\n",
        "new_df.write.format('parquet').save(\"diamond_clean.parquet\")"
      ]
    },
    {
      "cell_type": "markdown",
      "id": "alternative-tuner",
      "metadata": {
        "id": "alternative-tuner"
      },
      "source": [
        "### Making SQL Queries\n",
        "+ parse in the spark.SparkContext\n",
        "+ sqlContext\n",
        "\n"
      ]
    },
    {
      "cell_type": "code",
      "execution_count": 48,
      "id": "chemical-dining",
      "metadata": {
        "id": "chemical-dining"
      },
      "outputs": [],
      "source": [
        "from pyspark.sql import SQLContext"
      ]
    },
    {
      "cell_type": "code",
      "execution_count": 49,
      "id": "bound-crack",
      "metadata": {
        "colab": {
          "base_uri": "https://localhost:8080/"
        },
        "id": "bound-crack",
        "outputId": "e1461bca-9773-4065-c4b1-d3a7f46ed2df"
      },
      "outputs": [
        {
          "output_type": "execute_result",
          "data": {
            "text/plain": [
              "['Builder',\n",
              " '__annotations__',\n",
              " '__class__',\n",
              " '__delattr__',\n",
              " '__dict__',\n",
              " '__dir__',\n",
              " '__doc__',\n",
              " '__enter__',\n",
              " '__eq__',\n",
              " '__exit__',\n",
              " '__format__',\n",
              " '__ge__',\n",
              " '__getattribute__',\n",
              " '__gt__',\n",
              " '__hash__',\n",
              " '__init__',\n",
              " '__init_subclass__',\n",
              " '__le__',\n",
              " '__lt__',\n",
              " '__module__',\n",
              " '__ne__',\n",
              " '__new__',\n",
              " '__reduce__',\n",
              " '__reduce_ex__',\n",
              " '__repr__',\n",
              " '__setattr__',\n",
              " '__sizeof__',\n",
              " '__str__',\n",
              " '__subclasshook__',\n",
              " '__weakref__',\n",
              " '_activeSession',\n",
              " '_convert_from_pandas',\n",
              " '_createFromLocal',\n",
              " '_createFromRDD',\n",
              " '_create_dataframe',\n",
              " '_create_from_pandas_with_arrow',\n",
              " '_create_shell_session',\n",
              " '_getActiveSessionOrCreate',\n",
              " '_get_numpy_record_dtype',\n",
              " '_inferSchema',\n",
              " '_inferSchemaFromList',\n",
              " '_instantiatedSession',\n",
              " '_jconf',\n",
              " '_jsc',\n",
              " '_jsparkSession',\n",
              " '_jvm',\n",
              " '_repr_html_',\n",
              " '_sc',\n",
              " 'active',\n",
              " 'addArtifact',\n",
              " 'addArtifacts',\n",
              " 'addTag',\n",
              " 'builder',\n",
              " 'catalog',\n",
              " 'clearTags',\n",
              " 'client',\n",
              " 'conf',\n",
              " 'copyFromLocalToFs',\n",
              " 'createDataFrame',\n",
              " 'getActiveSession',\n",
              " 'getTags',\n",
              " 'interruptAll',\n",
              " 'interruptOperation',\n",
              " 'interruptTag',\n",
              " 'newSession',\n",
              " 'range',\n",
              " 'read',\n",
              " 'readStream',\n",
              " 'removeTag',\n",
              " 'sparkContext',\n",
              " 'sql',\n",
              " 'stop',\n",
              " 'streams',\n",
              " 'table',\n",
              " 'udf',\n",
              " 'udtf',\n",
              " 'version']"
            ]
          },
          "metadata": {},
          "execution_count": 49
        }
      ],
      "source": [
        "dir(spark)"
      ]
    },
    {
      "cell_type": "code",
      "execution_count": 50,
      "id": "alternative-celebrity",
      "metadata": {
        "colab": {
          "base_uri": "https://localhost:8080/"
        },
        "id": "alternative-celebrity",
        "outputId": "c29d9393-3861-47dd-86b3-674a78741fcd"
      },
      "outputs": [
        {
          "output_type": "stream",
          "name": "stderr",
          "text": [
            "/usr/local/lib/python3.10/dist-packages/pyspark/sql/context.py:113: FutureWarning: Deprecated in 3.0.0. Use SparkSession.builder.getOrCreate() instead.\n",
            "  warnings.warn(\n"
          ]
        }
      ],
      "source": [
        "# Create A Spark Context From the Spark Session\n",
        "sc = spark.sparkContext\n",
        "\n",
        "# Parse into the SQLContext\n",
        "sqlContext = SQLContext(sc)"
      ]
    },
    {
      "cell_type": "code",
      "execution_count": 51,
      "id": "general-reggae",
      "metadata": {
        "colab": {
          "base_uri": "https://localhost:8080/"
        },
        "id": "general-reggae",
        "outputId": "1db3b067-70f4-4745-8e7e-1181bdbd18ea"
      },
      "outputs": [
        {
          "output_type": "stream",
          "name": "stderr",
          "text": [
            "/usr/local/lib/python3.10/dist-packages/pyspark/sql/dataframe.py:329: FutureWarning: Deprecated in 2.0, use createOrReplaceTempView instead.\n",
            "  warnings.warn(\"Deprecated in 2.0, use createOrReplaceTempView instead.\", FutureWarning)\n"
          ]
        }
      ],
      "source": [
        "# Register Current DataFrame As Temporal Table\n",
        "df.registerTempTable(\"DiamondsTable\")\n"
      ]
    },
    {
      "cell_type": "code",
      "execution_count": 52,
      "id": "incorporated-building",
      "metadata": {
        "colab": {
          "base_uri": "https://localhost:8080/"
        },
        "id": "incorporated-building",
        "outputId": "90325e1a-d119-4e30-d282-a06663d0dbc3"
      },
      "outputs": [
        {
          "output_type": "stream",
          "name": "stdout",
          "text": [
            "+-----+---------+-----+-------+-----+-----+-----+----+----+----+\n",
            "|carat|      cut|color|clarity|depth|table|price|   x|   y|   z|\n",
            "+-----+---------+-----+-------+-----+-----+-----+----+----+----+\n",
            "| 0.23|    Ideal|    E|    SI2| 61.5|   55|  326|3.95|3.98|2.43|\n",
            "| 0.21|  Premium|    E|    SI1| 59.8|   61|  326|3.89|3.84|2.31|\n",
            "| 0.23|     Good|    E|    VS1| 56.9|   65|  327|4.05|4.07|2.31|\n",
            "| 0.29|  Premium|    I|    VS2| 62.4|   58|  334| 4.2|4.23|2.63|\n",
            "| 0.31|     Good|    J|    SI2| 63.3|   58|  335|4.34|4.35|2.75|\n",
            "| 0.24|Very Good|    J|   VVS2| 62.8|   57|  336|3.94|3.96|2.48|\n",
            "| 0.24|Very Good|    I|   VVS1| 62.3|   57|  336|3.95|3.98|2.47|\n",
            "| 0.26|Very Good|    H|    SI1| 61.9|   55|  337|4.07|4.11|2.53|\n",
            "| 0.22|     Fair|    E|    VS2| 65.1|   61|  337|3.87|3.78|2.49|\n",
            "| 0.23|Very Good|    H|    VS1| 59.4|   61|  338|   4|4.05|2.39|\n",
            "|  0.3|     Good|    J|    SI1|   64|   55|  339|4.25|4.28|2.73|\n",
            "| 0.23|    Ideal|    J|    VS1| 62.8|   56|  340|3.93| 3.9|2.46|\n",
            "| 0.22|  Premium|    F|    SI1| 60.4|   61|  342|3.88|3.84|2.33|\n",
            "| 0.31|    Ideal|    J|    SI2| 62.2|   54|  344|4.35|4.37|2.71|\n",
            "|  0.2|  Premium|    E|    SI2| 60.2|   62|  345|3.79|3.75|2.27|\n",
            "| 0.32|  Premium|    E|     I1| 60.9|   58|  345|4.38|4.42|2.68|\n",
            "|  0.3|    Ideal|    I|    SI2|   62|   54|  348|4.31|4.34|2.68|\n",
            "|  0.3|     Good|    J|    SI1| 63.4|   54|  351|4.23|4.29| 2.7|\n",
            "|  0.3|     Good|    J|    SI1| 63.8|   56|  351|4.23|4.26|2.71|\n",
            "|  0.3|Very Good|    J|    SI1| 62.7|   59|  351|4.21|4.27|2.66|\n",
            "+-----+---------+-----+-------+-----+-----+-----+----+----+----+\n",
            "only showing top 20 rows\n",
            "\n"
          ]
        }
      ],
      "source": [
        "# Making QUeries\n",
        "sqlContext.sql('SELECT * FROM DiamondsTable').show()"
      ]
    },
    {
      "cell_type": "code",
      "execution_count": 53,
      "id": "japanese-brick",
      "metadata": {
        "colab": {
          "base_uri": "https://localhost:8080/"
        },
        "id": "japanese-brick",
        "outputId": "72943c88-c710-413d-d185-2be41dacb87d"
      },
      "outputs": [
        {
          "output_type": "execute_result",
          "data": {
            "text/plain": [
              "['__annotations__',\n",
              " '__class__',\n",
              " '__delattr__',\n",
              " '__dict__',\n",
              " '__dir__',\n",
              " '__doc__',\n",
              " '__eq__',\n",
              " '__format__',\n",
              " '__ge__',\n",
              " '__getattribute__',\n",
              " '__gt__',\n",
              " '__hash__',\n",
              " '__init__',\n",
              " '__init_subclass__',\n",
              " '__le__',\n",
              " '__lt__',\n",
              " '__module__',\n",
              " '__ne__',\n",
              " '__new__',\n",
              " '__reduce__',\n",
              " '__reduce_ex__',\n",
              " '__repr__',\n",
              " '__setattr__',\n",
              " '__sizeof__',\n",
              " '__str__',\n",
              " '__subclasshook__',\n",
              " '__weakref__',\n",
              " '_get_or_create',\n",
              " '_inferSchema',\n",
              " '_instantiatedContext',\n",
              " '_jsc',\n",
              " '_jsqlContext',\n",
              " '_jvm',\n",
              " '_sc',\n",
              " '_ssql_ctx',\n",
              " 'cacheTable',\n",
              " 'clearCache',\n",
              " 'createDataFrame',\n",
              " 'createExternalTable',\n",
              " 'dropTempTable',\n",
              " 'getConf',\n",
              " 'getOrCreate',\n",
              " 'newSession',\n",
              " 'range',\n",
              " 'read',\n",
              " 'readStream',\n",
              " 'registerDataFrameAsTable',\n",
              " 'registerFunction',\n",
              " 'registerJavaFunction',\n",
              " 'setConf',\n",
              " 'sparkSession',\n",
              " 'sql',\n",
              " 'streams',\n",
              " 'table',\n",
              " 'tableNames',\n",
              " 'tables',\n",
              " 'udf',\n",
              " 'udtf',\n",
              " 'uncacheTable']"
            ]
          },
          "metadata": {},
          "execution_count": 53
        }
      ],
      "source": [
        "# Can also use it to work with DataFrames\n",
        "dir(sqlContext)"
      ]
    },
    {
      "cell_type": "code",
      "execution_count": 54,
      "id": "copyrighted-calgary",
      "metadata": {
        "id": "copyrighted-calgary"
      },
      "outputs": [],
      "source": [
        "# Thanks For Watching\n",
        "# Jesus Saves @JCharisTech\n",
        "# Jesse E.Agbe(JCharis)\n",
        "# 2021"
      ]
    },
    {
      "cell_type": "code",
      "execution_count": 54,
      "id": "unknown-leadership",
      "metadata": {
        "id": "unknown-leadership"
      },
      "outputs": [],
      "source": []
    }
  ],
  "metadata": {
    "kernelspec": {
      "display_name": "Python 3",
      "language": "python",
      "name": "python3"
    },
    "language_info": {
      "codemirror_mode": {
        "name": "ipython",
        "version": 3
      },
      "file_extension": ".py",
      "mimetype": "text/x-python",
      "name": "python",
      "nbconvert_exporter": "python",
      "pygments_lexer": "ipython3",
      "version": "3.8.6"
    },
    "colab": {
      "provenance": []
    }
  },
  "nbformat": 4,
  "nbformat_minor": 5
}